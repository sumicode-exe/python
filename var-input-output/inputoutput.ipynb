{
 "cells": [
  {
   "cell_type": "code",
   "execution_count": 6,
   "metadata": {},
   "outputs": [
    {
     "name": "stdout",
     "output_type": "stream",
     "text": [
      "hello,world\n",
      "hello <-> world\n",
      "Welcome <-> to <-> Python\n",
      "2 + 3 = 5\n"
     ]
    }
   ],
   "source": [
    "print(\"hello\", \"world\", sep = ',')\n",
    "print(\"hello\", \"world\", sep = ' <-> ')\n",
    "print(\"Welcome\", \"to\", \"Python\", sep = ' <-> ')\n",
    "print(\"2 + 3 = \", 2 + 3, sep = '')"
   ]
  },
  {
   "cell_type": "code",
   "execution_count": 12,
   "metadata": {},
   "outputs": [
    {
     "name": "stdout",
     "output_type": "stream",
     "text": [
      "Python is a dynamic language\n",
      "\t\t-- Python\n",
      "Welcome...to...Python\n",
      " ----=----- \n"
     ]
    }
   ],
   "source": [
    "#Terminating Lines\n",
    "print(\"Python\", \"is\", \"a\", \"dynamic\", \"language\", end = \"\\n\\t\\t-- Python\\n\")\n",
    "print(\"Welcome\", \"to\", \"Python\", sep = \"...\", end = \"\\n ----=----- \\n\")"
   ]
  },
  {
   "cell_type": "code",
   "execution_count": 18,
   "metadata": {},
   "outputs": [
    {
     "data": {
      "text/plain": [
       "'Hello world, Hello reader. Python is my world'"
      ]
     },
     "execution_count": 18,
     "metadata": {},
     "output_type": "execute_result"
    }
   ],
   "source": [
    "#Formatting\n",
    "'{0} {1}'.format('Hello', 'World')"
   ]
  },
  {
   "cell_type": "code",
   "execution_count": 19,
   "metadata": {},
   "outputs": [
    {
     "data": {
      "text/plain": [
       "'Hello world, Hello reader. Python is my world'"
      ]
     },
     "execution_count": 19,
     "metadata": {},
     "output_type": "execute_result"
    }
   ],
   "source": [
    "'{0} {1}, {0} reader. Python is my {1}'.format(\"Hello\", \"world\")"
   ]
  },
  {
   "cell_type": "code",
   "execution_count": 24,
   "metadata": {},
   "outputs": [
    {
     "name": "stdout",
     "output_type": "stream",
     "text": [
      "enter name and language\n"
     ]
    },
    {
     "data": {
      "text/plain": [
       "'Hello somya, welcome to py'"
      ]
     },
     "execution_count": 24,
     "metadata": {},
     "output_type": "execute_result"
    }
   ],
   "source": [
    "'{p} is {a}, {p} is {b}!, {p} is {c}!'.format(p = \"python\", a = \"easy\", b = \"fun\", c = \"amazing\")\n",
    "print(\"enter name and language\")\n",
    "name = input()\n",
    "language = input()\n",
    "'Hello {name}, welcome to {language}'.format(name = name, language = language)"
   ]
  },
  {
   "cell_type": "code",
   "execution_count": 25,
   "metadata": {},
   "outputs": [
    {
     "data": {
      "text/plain": [
       "'bin = 1010 oct = 12 dec = a hex = a'"
      ]
     },
     "execution_count": 25,
     "metadata": {},
     "output_type": "execute_result"
    }
   ],
   "source": [
    "'bin = {0:b} oct = {0:o} dec = {0:x} hex = {0:x}'.format(10)"
   ]
  },
  {
   "cell_type": "code",
   "execution_count": null,
   "metadata": {},
   "outputs": [],
   "source": []
  }
 ],
 "metadata": {
  "kernelspec": {
   "display_name": "Python 3",
   "language": "python",
   "name": "python3"
  },
  "language_info": {
   "codemirror_mode": {
    "name": "ipython",
    "version": 3
   },
   "file_extension": ".py",
   "mimetype": "text/x-python",
   "name": "python",
   "nbconvert_exporter": "python",
   "pygments_lexer": "ipython3",
   "version": "3.11.5"
  },
  "orig_nbformat": 4
 },
 "nbformat": 4,
 "nbformat_minor": 2
}
