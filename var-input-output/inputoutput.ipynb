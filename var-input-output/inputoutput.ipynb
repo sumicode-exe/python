{
 "cells": [
  {
   "cell_type": "code",
   "execution_count": 6,
   "metadata": {},
   "outputs": [
    {
     "name": "stdout",
     "output_type": "stream",
     "text": [
      "hello,world\n",
      "hello <-> world\n",
      "Welcome <-> to <-> Python\n",
      "2 + 3 = 5\n"
     ]
    }
   ],
   "source": [
    "print(\"hello\", \"world\", sep = ',')\n",
    "print(\"hello\", \"world\", sep = ' <-> ')\n",
    "print(\"Welcome\", \"to\", \"Python\", sep = ' <-> ')\n",
    "print(\"2 + 3 = \", 2 + 3, sep = '')"
   ]
  },
  {
   "cell_type": "code",
   "execution_count": 12,
   "metadata": {},
   "outputs": [
    {
     "name": "stdout",
     "output_type": "stream",
     "text": [
      "Python is a dynamic language\n",
      "\t\t-- Python\n",
      "Welcome...to...Python\n",
      " ----=----- \n"
     ]
    }
   ],
   "source": [
    "#Terminating Lines\n",
    "print(\"Python\", \"is\", \"a\", \"dynamic\", \"language\", end = \"\\n\\t\\t-- Python\\n\")\n",
    "print(\"Welcome\", \"to\", \"Python\", sep = \"...\", end = \"\\n ----=----- \\n\")"
   ]
  },
  {
   "cell_type": "code",
   "execution_count": null,
   "metadata": {},
   "outputs": [],
   "source": [
    "#Formatting\n"
   ]
  }
 ],
 "metadata": {
  "kernelspec": {
   "display_name": "Python 3",
   "language": "python",
   "name": "python3"
  },
  "language_info": {
   "codemirror_mode": {
    "name": "ipython",
    "version": 3
   },
   "file_extension": ".py",
   "mimetype": "text/x-python",
   "name": "python",
   "nbconvert_exporter": "python",
   "pygments_lexer": "ipython3",
   "version": "3.11.5"
  },
  "orig_nbformat": 4
 },
 "nbformat": 4,
 "nbformat_minor": 2
}
