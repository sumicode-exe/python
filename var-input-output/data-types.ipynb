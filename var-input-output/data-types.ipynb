{
 "cells": [
  {
   "cell_type": "code",
   "execution_count": 2,
   "metadata": {},
   "outputs": [
    {
     "name": "stdout",
     "output_type": "stream",
     "text": [
      "0 25 25 21\n"
     ]
    }
   ],
   "source": [
    "#Data Type int\n",
    "a = int()\n",
    "b = int(25)\n",
    "c = int(\"25\")\n",
    "d = int(\"25\", 8)\n",
    "\n",
    "print(a, b, c, d)"
   ]
  },
  {
   "cell_type": "code",
   "execution_count": 3,
   "metadata": {},
   "outputs": [
    {
     "name": "stdout",
     "output_type": "stream",
     "text": [
      "8\n",
      "6\n",
      "3.3333333333333335\n",
      "3\n",
      "1\n",
      "5\n",
      "-1\n"
     ]
    }
   ],
   "source": [
    "#Operation on int\n",
    "print(2 ** 3)\n",
    "print(2 * 3)\n",
    "print(10 / 3)\n",
    "print(10 // 3)\n",
    "print(10 % 3)\n",
    "print(2 + 3)\n",
    "print(2 - 3)\n"
   ]
  },
  {
   "cell_type": "code",
   "execution_count": 7,
   "metadata": {},
   "outputs": [
    {
     "name": "stdout",
     "output_type": "stream",
     "text": [
      "8\n",
      "(3, 1)\n",
      "10\n",
      "120\n",
      "0b1100\n",
      "0o14\n",
      "0xc\n"
     ]
    }
   ],
   "source": [
    "#Arithmetic operations on int\n",
    "import math\n",
    "print(pow(2, 3))\n",
    "print(divmod(10,3))\n",
    "print(abs(-10))\n",
    "print(math.factorial(5))\n",
    "print(bin(12))\n",
    "print(oct(12))\n",
    "print(hex(12))"
   ]
  },
  {
   "cell_type": "code",
   "execution_count": 8,
   "metadata": {},
   "outputs": [
    {
     "name": "stdout",
     "output_type": "stream",
     "text": [
      "2\n",
      "3\n",
      "1\n",
      "-3\n",
      "16\n",
      "0\n"
     ]
    }
   ],
   "source": [
    "#Comparitive functions\n",
    "print(2 & 3)\n",
    "print(2 | 3)\n",
    "print(2 ^ 3)\n",
    "print(~2)\n",
    "print(2 << 3)\n",
    "print(2 >> 3)"
   ]
  },
  {
   "cell_type": "code",
   "execution_count": 10,
   "metadata": {},
   "outputs": [
    {
     "name": "stdout",
     "output_type": "stream",
     "text": [
      "True\n",
      "True\n",
      "False\n",
      "False\n",
      "False\n",
      "True\n"
     ]
    }
   ],
   "source": [
    "#Bitwise operations\n",
    "print(2 < 3)\n",
    "print(2 <= 3)\n",
    "print(2 > 3)\n",
    "print(2 >= 3)\n",
    "print(2 == 3)\n",
    "print(2 != 3)"
   ]
  },
  {
   "cell_type": "code",
   "execution_count": 11,
   "metadata": {},
   "outputs": [
    {
     "name": "stdout",
     "output_type": "stream",
     "text": [
      "1.0183993761470242\n",
      "7.5\n",
      "2.5\n",
      "2.0\n",
      "0.9000000000000001\n",
      "5.4\n",
      "-1.1999999999999997\n"
     ]
    }
   ],
   "source": [
    "#Operation on float\n",
    "print(1.2 ** 0.1)\n",
    "print(2.5 * 3)\n",
    "print(7.5 / 3)\n",
    "print(7.5 // 3)\n",
    "print(4.5 % 1.2)\n",
    "print(2.1 + 3.3)\n",
    "print(2.1 - 3.3)"
   ]
  },
  {
   "cell_type": "code",
   "execution_count": 13,
   "metadata": {},
   "outputs": [
    {
     "name": "stdout",
     "output_type": "stream",
     "text": [
      "1.0183993761470242\n",
      "(2.0, 1.5)\n",
      "1.2\n",
      "2\n"
     ]
    }
   ],
   "source": [
    "#Arithmetic operations on float\n",
    "print(pow(1.2, 0.1))\n",
    "print(divmod(7.5, 3))\n",
    "print(abs(-1.2))\n",
    "print(round(2.3))\n"
   ]
  },
  {
   "cell_type": "code",
   "execution_count": 16,
   "metadata": {},
   "outputs": [
    {
     "name": "stdout",
     "output_type": "stream",
     "text": [
      "2\n",
      "3\n",
      "2\n",
      "9.974182454814718\n",
      "2.3\n",
      "2.0\n",
      "1.51657508881031\n",
      "5.0\n",
      "180.0\n",
      "3.141592653589793\n",
      "0.0\n",
      "1.0\n",
      "0.0\n",
      "0.0\n",
      "1.5707963267948966\n",
      "0.0\n",
      "1.5707963267948966\n"
     ]
    }
   ],
   "source": [
    "#MAthamatical functions for float \n",
    "print(math.floor(2.3))\n",
    "print(math.ceil(2.3))\n",
    "print(math.trunc(2.3))\n",
    "print(math.exp(2.3))\n",
    "print(math.log(9.974182454814718))\n",
    "print(math.log10(100))\n",
    "print(math.sqrt(2.3))\n",
    "print(math.hypot(3,4))\n",
    "print(math.degrees(math.pi))\n",
    "print(math.radians(180))\n",
    "print(math.sin(0))\n",
    "print(math.cos(0))\n",
    "print(math.tan(0))\n",
    "print(math.asin(0))\n",
    "print(math.acos(0))\n",
    "print(math.atan(0))\n",
    "print(math.atan2(3, 0))\n"
   ]
  },
  {
   "cell_type": "code",
   "execution_count": 19,
   "metadata": {},
   "outputs": [
    {
     "name": "stdout",
     "output_type": "stream",
     "text": [
      "(3+3j)\n",
      "2.0\n",
      "5.0\n",
      "(2+3j)\n"
     ]
    }
   ],
   "source": [
    "#Complex data type\n",
    "print(3+3j)\n",
    "print(2+3j.real)\n",
    "print(2+3j.imag)\n",
    "\n",
    "x = complex(2, 3)\n",
    "print(x)"
   ]
  },
  {
   "cell_type": "code",
   "execution_count": 23,
   "metadata": {},
   "outputs": [
    {
     "name": "stdout",
     "output_type": "stream",
     "text": [
      "(-1+0j)\n",
      "(-8+27j)\n",
      "(1+0j)\n",
      "(7+9j)\n",
      "(-3-3j)\n",
      "(3.605551275463989, 0.982793723247329)\n",
      "(2+2.9999999999999996j)\n",
      "5.0\n",
      "0.9272952180016122\n"
     ]
    }
   ],
   "source": [
    "#Operations on complex\n",
    "import cmath\n",
    "print(1j ** 2)\n",
    "print((2+3j) * (5+6j))\n",
    "print((2+3j) / (2+3j))\n",
    "print((2+3j) + (5+6j))\n",
    "print((2+3j) - (5+6j))\n",
    "print(cmath.polar(2+3j))\n",
    "print(cmath.rect(3.605551275463989, 0.982793723247329))\n",
    "print(abs(3+4j))\n",
    "print(cmath.phase(3+4j))"
   ]
  },
  {
   "cell_type": "code",
   "execution_count": 29,
   "metadata": {},
   "outputs": [
    {
     "name": "stdout",
     "output_type": "stream",
     "text": [
      "rex lapis if dead? assassinated? and dazai x chhuuuuuyyaaaaa\n",
      "REX LAPIS IF DEAD? ASSASSINATED? AND DAZAI X CHHUUUUUYYAAAAA\n",
      "Rex lapis if dead? assassinated? and dazai x chhuuuuuyyaaaaa\n",
      "Rex Lapis If Dead? Assassinated? And Dazai X Chhuuuuuyyaaaaa\n",
      "rEX lAPIS IF DEAD? aSSaSSINATED? aND dAZAI X cHHUUUUUYYAAAAA\n",
      "False\n",
      "False\n",
      "False\n",
      "False\n",
      "False\n",
      "False\n",
      "True\n",
      "False\n",
      "HelloWorld\n"
     ]
    }
   ],
   "source": [
    "#Literals of type str\n",
    "text = \"Rex Lapis if dead? AssAssinated? And Dazai x Chhuuuuuyyaaaaa\"\n",
    "print(text.lower())\n",
    "print(text.upper())\n",
    "print(text.capitalize())\n",
    "print(text.title())\n",
    "print(text.swapcase())\n",
    "print(text.isalpha())\n",
    "print(text.isupper())\n",
    "print(text.islower())\n",
    "print(text.isnumeric())\n",
    "print(text.isalnum())\n",
    "print(text.isidentifier())\n",
    "print(text.isprintable())\n",
    "print(text.isspace())\n",
    "print(\"Hello\" + \"World\")\n"
   ]
  },
  {
   "cell_type": "code",
   "execution_count": null,
   "metadata": {},
   "outputs": [],
   "source": []
  }
 ],
 "metadata": {
  "kernelspec": {
   "display_name": "Python 3",
   "language": "python",
   "name": "python3"
  },
  "language_info": {
   "codemirror_mode": {
    "name": "ipython",
    "version": 3
   },
   "file_extension": ".py",
   "mimetype": "text/x-python",
   "name": "python",
   "nbconvert_exporter": "python",
   "pygments_lexer": "ipython3",
   "version": "3.11.5"
  },
  "orig_nbformat": 4
 },
 "nbformat": 4,
 "nbformat_minor": 2
}
