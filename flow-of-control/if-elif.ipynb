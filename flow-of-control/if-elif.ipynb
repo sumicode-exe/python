{
 "cells": [
  {
   "cell_type": "code",
   "execution_count": 1,
   "metadata": {},
   "outputs": [
    {
     "name": "stdout",
     "output_type": "stream",
     "text": [
      "Hi sumi, you are eligible to vote\n"
     ]
    }
   ],
   "source": [
    "#PROGRAMME THAT CHECKS VOTING ELIGIBILITY\n",
    "name = input(\"Enter your name\")\n",
    "age = int(input(\"Enter yout age\"))\n",
    "\n",
    "if age >= 18:\n",
    "    print(\"Hi {}, you are eligible to vote\".format(name))\n",
    "else: \n",
    "    print(\"Sory {} You cannot vote yet\".format(name))"
   ]
  },
  {
   "cell_type": "code",
   "execution_count": 1,
   "metadata": {},
   "outputs": [
    {
     "name": "stdout",
     "output_type": "stream",
     "text": [
      "23 is a positive number\n"
     ]
    }
   ],
   "source": [
    "#PROGRAMME THAT CLASSIFIESS INTEGER AS\n",
    "#POSITIVE, NEGATIVE OR ZERO\n",
    "\n",
    "x = int(input(\"emter a number\"))\n",
    "\n",
    "if x > 0:\n",
    "    print(\"{} is a positive number\".format(x))\n",
    "elif x < 0:\n",
    "    print(\"{} is a negative number\".format(x))\n",
    "else:\n",
    "    print(\"{} is zero.format(x)\")\n"
   ]
  },
  {
   "cell_type": "code",
   "execution_count": 2,
   "metadata": {},
   "outputs": [
    {
     "name": "stdout",
     "output_type": "stream",
     "text": [
      "The point lies in the fourth quadrant\n"
     ]
    }
   ],
   "source": [
    "#PROGRAMME THAT IDENTIFIES THE QUADRANT OF A NUMBER\n",
    "\n",
    "x = int(input(\"Enter the x coordinate\"))\n",
    "y = int(input(\"Enter the y coordinate\"))\n",
    "\n",
    "if x == 0 and y == 0:\n",
    "    print(\"The point lies on the origin\")\n",
    "elif x == 0:\n",
    "    print(\"The point lies on the y axis\")\n",
    "elif y == 0:\n",
    "    print(\"The point lies on the x axis\")\n",
    "elif x > 0 and y > 0:\n",
    "    print(\"The point lies in the first quadrant\")\n",
    "elif x < 0 and y > 0:\n",
    "    print(\"The point lies in the second quadrant\")\n",
    "elif x < 0 and y < 0:\n",
    "    print(\"The point lies in the thirs quadrant\")\n",
    "else:\n",
    "    print(\"The point lies in the fourth quadrant\")"
   ]
  },
  {
   "cell_type": "code",
   "execution_count": 5,
   "metadata": {},
   "outputs": [
    {
     "name": "stdout",
     "output_type": "stream",
     "text": [
      "The roots are imaginary\n",
      "The roots are (-0.75+1.1989578808281798j) and (-0.75-1.1989578808281798j)\n"
     ]
    }
   ],
   "source": [
    "#PROGRAMME TO CLASSIFY AND DETERMINE THE ROOTS OF A QUADRATIC EQUATION\n",
    "import math\n",
    "\n",
    "a = int(input(\"Enter the value of a\"))\n",
    "b = int(input(\"Enter the value of b\"))\n",
    "c = int(input(\"Enter the value of c\"))\n",
    "\n",
    "discriminant = b ** 2 - 4 * a * c\n",
    "\n",
    "if discriminant == 0:\n",
    "    print(\"The roots are real\")\n",
    "    x = -b/(2 * a)\n",
    "    print(\"The root is\", x)\n",
    "elif discriminant > 0:\n",
    "    print(\"The roots are real and distinct\")\n",
    "    part1 = -b/(2 * a)\n",
    "    part2 = math.sqrt(discriminant) / (2 * a)\n",
    "    x1 = part1 + part2\n",
    "    x2 = part1 - part2\n",
    "    print(\"The roots are\", x1, \"and\", x2)\n",
    "else:\n",
    "    print(\"The roots are imaginary\")\n",
    "    part1 = -b/(2 * a)\n",
    "    part2 = math.sqrt(-discriminant)/(2 * a)\n",
    "    x1 = complex(part1, part2)\n",
    "    x2 = complex(part1, -part2)\n",
    "    print(\"The roots are\", x1, \"and\", x2)\n"
   ]
  },
  {
   "cell_type": "code",
   "execution_count": null,
   "metadata": {},
   "outputs": [],
   "source": []
  }
 ],
 "metadata": {
  "kernelspec": {
   "display_name": "Python 3",
   "language": "python",
   "name": "python3"
  },
  "language_info": {
   "codemirror_mode": {
    "name": "ipython",
    "version": 3
   },
   "file_extension": ".py",
   "mimetype": "text/x-python",
   "name": "python",
   "nbconvert_exporter": "python",
   "pygments_lexer": "ipython3",
   "version": "3.11.5"
  },
  "orig_nbformat": 4
 },
 "nbformat": 4,
 "nbformat_minor": 2
}
