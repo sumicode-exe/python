{
 "cells": [
  {
   "cell_type": "code",
   "execution_count": 2,
   "metadata": {},
   "outputs": [
    {
     "name": "stdout",
     "output_type": "stream",
     "text": [
      "Hi somya, you are 18 years old\n"
     ]
    }
   ],
   "source": [
    "#PROGRAM THAT ASKS FOR THE USER'S NAME AND AGE AND PRINTS A GREETING\n",
    "name = input(\"Enter your name\")\n",
    "age = int(input(\"Enter your age\"))\n",
    "\n",
    "print(\"Hi {}, you are {:d} years old\".format(name, age))"
   ]
  },
  {
   "cell_type": "code",
   "execution_count": 5,
   "metadata": {},
   "outputs": [
    {
     "name": "stdout",
     "output_type": "stream",
     "text": [
      "x = 7\n",
      "x lies between 6 and 8\n",
      "square(x) = 49 cube(x) = 343\n"
     ]
    }
   ],
   "source": [
    "#PROGRAME THAT PERFORMS BASIC OPERATIONS IN INT\n",
    "\n",
    "import math\n",
    "\n",
    "x = int(input(\"Enter a number: \"))\n",
    "\n",
    "print(\"x = {}\".format(x))\n",
    "print(\"x lies between {} and {}\".format(x-1, x+1))\n",
    "print(\"square(x) = {} cube(x) = {}\".format(x**2, pow(x, 3)))\n"
   ]
  },
  {
   "cell_type": "code",
   "execution_count": null,
   "metadata": {},
   "outputs": [],
   "source": []
  }
 ],
 "metadata": {
  "kernelspec": {
   "display_name": "Python 3",
   "language": "python",
   "name": "python3"
  },
  "language_info": {
   "codemirror_mode": {
    "name": "ipython",
    "version": 3
   },
   "file_extension": ".py",
   "mimetype": "text/x-python",
   "name": "python",
   "nbconvert_exporter": "python",
   "pygments_lexer": "ipython3",
   "version": "3.11.5"
  },
  "orig_nbformat": 4
 },
 "nbformat": 4,
 "nbformat_minor": 2
}
