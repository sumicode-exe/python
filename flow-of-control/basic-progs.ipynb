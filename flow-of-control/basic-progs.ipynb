{
 "cells": [
  {
   "cell_type": "code",
   "execution_count": 1,
   "metadata": {},
   "outputs": [
    {
     "name": "stdout",
     "output_type": "stream",
     "text": [
      "Hi Som, you are 12 years old\n"
     ]
    }
   ],
   "source": [
    "#PROGRAM THAT ASKS FOR THE USER'S NAME AND AGE AND PRINTS A GREETING\n",
    "name = input(\"Enter your name\")\n",
    "age = int(input(\"Enter your age\"))\n",
    "\n",
    "print(\"Hi {}, you are {:d} years old\".format(name, age))"
   ]
  },
  {
   "cell_type": "code",
   "execution_count": 2,
   "metadata": {},
   "outputs": [
    {
     "name": "stdout",
     "output_type": "stream",
     "text": [
      "x = 2\n",
      "x lies between 1 and 3\n",
      "square(x) = 4 cube(x) = 8\n"
     ]
    }
   ],
   "source": [
    "#PROGRAME THAT PERFORMS BASIC OPERATIONS IN INT\n",
    "\n",
    "import math\n",
    "\n",
    "x = int(input(\"Enter a number: \"))\n",
    "\n",
    "print(\"x = {}\".format(x))\n",
    "print(\"x lies between {} and {}\".format(x-1, x+1))\n",
    "print(\"square(x) = {} cube(x) = {}\".format(x**2, pow(x, 3)))\n"
   ]
  },
  {
   "cell_type": "code",
   "execution_count": 4,
   "metadata": {},
   "outputs": [
    {
     "name": "stdout",
     "output_type": "stream",
     "text": [
      "Natural logarithm and antilogarithm\n",
      "ln(x) = 0.47712125471966244 antilog(log(x)) = 3.0\n",
      "\n",
      "Base 2 logathim and anti-logarithm\n",
      "log2(x) = 1.5849625007211563 antiloglog2(log2(x)) = 3.0000000000000004\n"
     ]
    }
   ],
   "source": [
    "#LOGARITHMS AND ANTI LOGARIOTHMS\n",
    "import math\n",
    "\n",
    "x = float(input(\"Enter a real number\"))\n",
    "\n",
    "print(\"Natural logarithm and antilogarithm\")\n",
    "print(\"ln(x) = {} antilog(log(x)) = {}\".format(math.log10(x), pow(10, math.log10(x))))\n",
    "\n",
    "print(\"\\nBase 2 logathim and anti-logarithm\")\n",
    "print(\"log2(x) = {} antiloglog2(log2(x)) = {}\". format(math.log(x, 2), pow(2, math.log(x, 2))))"
   ]
  },
  {
   "cell_type": "code",
   "execution_count": null,
   "metadata": {},
   "outputs": [],
   "source": []
  }
 ],
 "metadata": {
  "kernelspec": {
   "display_name": "Python 3",
   "language": "python",
   "name": "python3"
  },
  "language_info": {
   "codemirror_mode": {
    "name": "ipython",
    "version": 3
   },
   "file_extension": ".py",
   "mimetype": "text/x-python",
   "name": "python",
   "nbconvert_exporter": "python",
   "pygments_lexer": "ipython3",
   "version": "3.11.5"
  },
  "orig_nbformat": 4
 },
 "nbformat": 4,
 "nbformat_minor": 2
}
