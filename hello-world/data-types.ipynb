{
 "cells": [
  {
   "cell_type": "code",
   "execution_count": 2,
   "metadata": {},
   "outputs": [
    {
     "name": "stdout",
     "output_type": "stream",
     "text": [
      "0 25 25 21\n"
     ]
    }
   ],
   "source": [
    "#Data Type int\n",
    "a = int()\n",
    "b = int(25)\n",
    "c = int(\"25\")\n",
    "d = int(\"25\", 8)\n",
    "\n",
    "print(a, b, c, d)"
   ]
  },
  {
   "cell_type": "code",
   "execution_count": 3,
   "metadata": {},
   "outputs": [
    {
     "name": "stdout",
     "output_type": "stream",
     "text": [
      "8\n",
      "6\n",
      "3.3333333333333335\n",
      "3\n",
      "1\n",
      "5\n",
      "-1\n"
     ]
    }
   ],
   "source": [
    "print(2 ** 3)\n",
    "print(2 * 3)\n",
    "print(10 / 3)\n",
    "print(10 // 3)\n",
    "print(10 % 3)\n",
    "print(2 + 3)\n",
    "print(2 - 3)\n"
   ]
  },
  {
   "cell_type": "code",
   "execution_count": 7,
   "metadata": {},
   "outputs": [
    {
     "name": "stdout",
     "output_type": "stream",
     "text": [
      "8\n",
      "(3, 1)\n",
      "10\n",
      "120\n",
      "0b1100\n",
      "0o14\n",
      "0xc\n"
     ]
    }
   ],
   "source": [
    "import math\n",
    "print(pow(2, 3))\n",
    "print(divmod(10,3))\n",
    "print(abs(-10))\n",
    "print(math.factorial(5))\n",
    "print(bin(12))\n",
    "print(oct(12))\n",
    "print(hex(12))"
   ]
  },
  {
   "cell_type": "code",
   "execution_count": null,
   "metadata": {},
   "outputs": [],
   "source": [
    "print(2 & 3)"
   ]
  }
 ],
 "metadata": {
  "kernelspec": {
   "display_name": "Python 3",
   "language": "python",
   "name": "python3"
  },
  "language_info": {
   "codemirror_mode": {
    "name": "ipython",
    "version": 3
   },
   "file_extension": ".py",
   "mimetype": "text/x-python",
   "name": "python",
   "nbconvert_exporter": "python",
   "pygments_lexer": "ipython3",
   "version": "3.11.5"
  },
  "orig_nbformat": 4
 },
 "nbformat": 4,
 "nbformat_minor": 2
}
