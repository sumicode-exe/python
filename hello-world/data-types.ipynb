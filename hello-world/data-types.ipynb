{
 "cells": [
  {
   "cell_type": "code",
   "execution_count": 2,
   "metadata": {},
   "outputs": [
    {
     "name": "stdout",
     "output_type": "stream",
     "text": [
      "0 25 25 21\n"
     ]
    }
   ],
   "source": [
    "#Data Type int\n",
    "a = int()\n",
    "b = int(25)\n",
    "c = int(\"25\")\n",
    "d = int(\"25\", 8)\n",
    "\n",
    "print(a, b, c, d)"
   ]
  },
  {
   "cell_type": "code",
   "execution_count": 3,
   "metadata": {},
   "outputs": [
    {
     "name": "stdout",
     "output_type": "stream",
     "text": [
      "8\n",
      "6\n",
      "3.3333333333333335\n",
      "3\n",
      "1\n",
      "5\n",
      "-1\n"
     ]
    }
   ],
   "source": [
    "#Operation on int\n",
    "print(2 ** 3)\n",
    "print(2 * 3)\n",
    "print(10 / 3)\n",
    "print(10 // 3)\n",
    "print(10 % 3)\n",
    "print(2 + 3)\n",
    "print(2 - 3)\n"
   ]
  },
  {
   "cell_type": "code",
   "execution_count": 7,
   "metadata": {},
   "outputs": [
    {
     "name": "stdout",
     "output_type": "stream",
     "text": [
      "8\n",
      "(3, 1)\n",
      "10\n",
      "120\n",
      "0b1100\n",
      "0o14\n",
      "0xc\n"
     ]
    }
   ],
   "source": [
    "#Arithmetic operations on int\n",
    "import math\n",
    "print(pow(2, 3))\n",
    "print(divmod(10,3))\n",
    "print(abs(-10))\n",
    "print(math.factorial(5))\n",
    "print(bin(12))\n",
    "print(oct(12))\n",
    "print(hex(12))"
   ]
  },
  {
   "cell_type": "code",
   "execution_count": 8,
   "metadata": {},
   "outputs": [
    {
     "name": "stdout",
     "output_type": "stream",
     "text": [
      "2\n",
      "3\n",
      "1\n",
      "-3\n",
      "16\n",
      "0\n"
     ]
    }
   ],
   "source": [
    "#Comparitive functions\n",
    "print(2 & 3)\n",
    "print(2 | 3)\n",
    "print(2 ^ 3)\n",
    "print(~2)\n",
    "print(2 << 3)\n",
    "print(2 >> 3)"
   ]
  },
  {
   "cell_type": "code",
   "execution_count": 10,
   "metadata": {},
   "outputs": [
    {
     "name": "stdout",
     "output_type": "stream",
     "text": [
      "True\n",
      "True\n",
      "False\n",
      "False\n",
      "False\n",
      "True\n"
     ]
    }
   ],
   "source": [
    "#Bitwise operations\n",
    "print(2 < 3)\n",
    "print(2 <= 3)\n",
    "print(2 > 3)\n",
    "print(2 >= 3)\n",
    "print(2 == 3)\n",
    "print(2 != 3)"
   ]
  },
  {
   "cell_type": "code",
   "execution_count": 11,
   "metadata": {},
   "outputs": [
    {
     "name": "stdout",
     "output_type": "stream",
     "text": [
      "1.0183993761470242\n",
      "7.5\n",
      "2.5\n",
      "2.0\n",
      "0.9000000000000001\n",
      "5.4\n",
      "-1.1999999999999997\n"
     ]
    }
   ],
   "source": [
    "#Operation on float\n",
    "print(1.2 ** 0.1)\n",
    "print(2.5 * 3)\n",
    "print(7.5 / 3)\n",
    "print(7.5 // 3)\n",
    "print(4.5 % 1.2)\n",
    "print(2.1 + 3.3)\n",
    "print(2.1 - 3.3)"
   ]
  },
  {
   "cell_type": "code",
   "execution_count": 13,
   "metadata": {},
   "outputs": [
    {
     "name": "stdout",
     "output_type": "stream",
     "text": [
      "1.0183993761470242\n",
      "(2.0, 1.5)\n",
      "1.2\n",
      "2\n"
     ]
    }
   ],
   "source": [
    "#Arithmetic operations on float\n",
    "print(pow(1.2, 0.1))\n",
    "print(divmod(7.5, 3))\n",
    "print(abs(-1.2))\n",
    "print(round(2.3))\n"
   ]
  },
  {
   "cell_type": "code",
   "execution_count": 14,
   "metadata": {},
   "outputs": [
    {
     "name": "stdout",
     "output_type": "stream",
     "text": [
      "2\n",
      "3\n",
      "2\n",
      "9.974182454814718\n",
      "2.3\n"
     ]
    }
   ],
   "source": [
    "#MAthamatical functions for float \n",
    "print(math.floor(2.3))\n",
    "print(math.ceil(2.3))\n",
    "print(math.trunc(2.3))\n",
    "print(math.exp(2.3))\n",
    "print(math.log(9.974182454814718))\n",
    "print(math.log10(100))\n",
    "print(math.sqrt(2.3))\n"
   ]
  },
  {
   "cell_type": "code",
   "execution_count": null,
   "metadata": {},
   "outputs": [],
   "source": []
  }
 ],
 "metadata": {
  "kernelspec": {
   "display_name": "Python 3",
   "language": "python",
   "name": "python3"
  },
  "language_info": {
   "codemirror_mode": {
    "name": "ipython",
    "version": 3
   },
   "file_extension": ".py",
   "mimetype": "text/x-python",
   "name": "python",
   "nbconvert_exporter": "python",
   "pygments_lexer": "ipython3",
   "version": "3.11.5"
  },
  "orig_nbformat": 4
 },
 "nbformat": 4,
 "nbformat_minor": 2
}
